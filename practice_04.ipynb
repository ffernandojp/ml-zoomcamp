{
 "cells": [
  {
   "cell_type": "code",
   "execution_count": 1,
   "id": "e53dc4ca-ae71-4e8f-9bdc-7209553d3f11",
   "metadata": {},
   "outputs": [],
   "source": [
    "import pandas as pd"
   ]
  },
  {
   "cell_type": "code",
   "execution_count": 2,
   "id": "e3fa0565-4538-46df-a8aa-f66880635050",
   "metadata": {},
   "outputs": [
    {
     "data": {
      "text/html": [
       "<div>\n",
       "<style scoped>\n",
       "    .dataframe tbody tr th:only-of-type {\n",
       "        vertical-align: middle;\n",
       "    }\n",
       "\n",
       "    .dataframe tbody tr th {\n",
       "        vertical-align: top;\n",
       "    }\n",
       "\n",
       "    .dataframe thead th {\n",
       "        text-align: right;\n",
       "    }\n",
       "</style>\n",
       "<table border=\"1\" class=\"dataframe\">\n",
       "  <thead>\n",
       "    <tr style=\"text-align: right;\">\n",
       "      <th></th>\n",
       "      <th>lead_source</th>\n",
       "      <th>industry</th>\n",
       "      <th>number_of_courses_viewed</th>\n",
       "      <th>annual_income</th>\n",
       "      <th>employment_status</th>\n",
       "      <th>location</th>\n",
       "      <th>interaction_count</th>\n",
       "      <th>lead_score</th>\n",
       "      <th>converted</th>\n",
       "    </tr>\n",
       "  </thead>\n",
       "  <tbody>\n",
       "    <tr>\n",
       "      <th>0</th>\n",
       "      <td>paid_ads</td>\n",
       "      <td>NaN</td>\n",
       "      <td>1</td>\n",
       "      <td>79450.0</td>\n",
       "      <td>unemployed</td>\n",
       "      <td>south_america</td>\n",
       "      <td>4</td>\n",
       "      <td>0.94</td>\n",
       "      <td>1</td>\n",
       "    </tr>\n",
       "    <tr>\n",
       "      <th>1</th>\n",
       "      <td>social_media</td>\n",
       "      <td>retail</td>\n",
       "      <td>1</td>\n",
       "      <td>46992.0</td>\n",
       "      <td>employed</td>\n",
       "      <td>south_america</td>\n",
       "      <td>1</td>\n",
       "      <td>0.80</td>\n",
       "      <td>0</td>\n",
       "    </tr>\n",
       "    <tr>\n",
       "      <th>2</th>\n",
       "      <td>events</td>\n",
       "      <td>healthcare</td>\n",
       "      <td>5</td>\n",
       "      <td>78796.0</td>\n",
       "      <td>unemployed</td>\n",
       "      <td>australia</td>\n",
       "      <td>3</td>\n",
       "      <td>0.69</td>\n",
       "      <td>1</td>\n",
       "    </tr>\n",
       "    <tr>\n",
       "      <th>3</th>\n",
       "      <td>paid_ads</td>\n",
       "      <td>retail</td>\n",
       "      <td>2</td>\n",
       "      <td>83843.0</td>\n",
       "      <td>NaN</td>\n",
       "      <td>australia</td>\n",
       "      <td>1</td>\n",
       "      <td>0.87</td>\n",
       "      <td>0</td>\n",
       "    </tr>\n",
       "    <tr>\n",
       "      <th>4</th>\n",
       "      <td>referral</td>\n",
       "      <td>education</td>\n",
       "      <td>3</td>\n",
       "      <td>85012.0</td>\n",
       "      <td>self_employed</td>\n",
       "      <td>europe</td>\n",
       "      <td>3</td>\n",
       "      <td>0.62</td>\n",
       "      <td>1</td>\n",
       "    </tr>\n",
       "  </tbody>\n",
       "</table>\n",
       "</div>"
      ],
      "text/plain": [
       "    lead_source    industry  number_of_courses_viewed  annual_income  \\\n",
       "0      paid_ads         NaN                         1        79450.0   \n",
       "1  social_media      retail                         1        46992.0   \n",
       "2        events  healthcare                         5        78796.0   \n",
       "3      paid_ads      retail                         2        83843.0   \n",
       "4      referral   education                         3        85012.0   \n",
       "\n",
       "  employment_status       location  interaction_count  lead_score  converted  \n",
       "0        unemployed  south_america                  4        0.94          1  \n",
       "1          employed  south_america                  1        0.80          0  \n",
       "2        unemployed      australia                  3        0.69          1  \n",
       "3               NaN      australia                  1        0.87          0  \n",
       "4     self_employed         europe                  3        0.62          1  "
      ]
     },
     "execution_count": 2,
     "metadata": {},
     "output_type": "execute_result"
    }
   ],
   "source": [
    "df = pd.read_csv('course_lead_scoring.csv')\n",
    "df.head()"
   ]
  },
  {
   "cell_type": "code",
   "execution_count": 3,
   "id": "8340e0f9-53ca-4b23-bf7d-d90e779135f0",
   "metadata": {},
   "outputs": [
    {
     "data": {
      "text/plain": [
       "lead_source                 128\n",
       "industry                    134\n",
       "number_of_courses_viewed      0\n",
       "annual_income               181\n",
       "employment_status           100\n",
       "location                     63\n",
       "interaction_count             0\n",
       "lead_score                    0\n",
       "converted                     0\n",
       "dtype: int64"
      ]
     },
     "execution_count": 3,
     "metadata": {},
     "output_type": "execute_result"
    }
   ],
   "source": [
    "df.isnull().sum()"
   ]
  },
  {
   "cell_type": "code",
   "execution_count": 4,
   "id": "247b5d71-00d8-46ad-9be6-6403756159c6",
   "metadata": {},
   "outputs": [],
   "source": [
    "for col in df.columns:\n",
    "     if df[col].dtype == 'object':\n",
    "         df[col] = df[col].fillna('NA')\n",
    "     else:\n",
    "         df[col] = df[col].fillna(0.0)"
   ]
  },
  {
   "cell_type": "code",
   "execution_count": 5,
   "id": "48645cf9-e0b5-48c6-b30b-716fac95856f",
   "metadata": {},
   "outputs": [
    {
     "data": {
      "text/html": [
       "<div>\n",
       "<style scoped>\n",
       "    .dataframe tbody tr th:only-of-type {\n",
       "        vertical-align: middle;\n",
       "    }\n",
       "\n",
       "    .dataframe tbody tr th {\n",
       "        vertical-align: top;\n",
       "    }\n",
       "\n",
       "    .dataframe thead th {\n",
       "        text-align: right;\n",
       "    }\n",
       "</style>\n",
       "<table border=\"1\" class=\"dataframe\">\n",
       "  <thead>\n",
       "    <tr style=\"text-align: right;\">\n",
       "      <th></th>\n",
       "      <th>lead_source</th>\n",
       "      <th>industry</th>\n",
       "      <th>number_of_courses_viewed</th>\n",
       "      <th>annual_income</th>\n",
       "      <th>employment_status</th>\n",
       "      <th>location</th>\n",
       "      <th>interaction_count</th>\n",
       "      <th>lead_score</th>\n",
       "      <th>converted</th>\n",
       "    </tr>\n",
       "  </thead>\n",
       "  <tbody>\n",
       "    <tr>\n",
       "      <th>0</th>\n",
       "      <td>paid_ads</td>\n",
       "      <td>NA</td>\n",
       "      <td>1</td>\n",
       "      <td>79450.0</td>\n",
       "      <td>unemployed</td>\n",
       "      <td>south_america</td>\n",
       "      <td>4</td>\n",
       "      <td>0.94</td>\n",
       "      <td>1</td>\n",
       "    </tr>\n",
       "    <tr>\n",
       "      <th>1</th>\n",
       "      <td>social_media</td>\n",
       "      <td>retail</td>\n",
       "      <td>1</td>\n",
       "      <td>46992.0</td>\n",
       "      <td>employed</td>\n",
       "      <td>south_america</td>\n",
       "      <td>1</td>\n",
       "      <td>0.80</td>\n",
       "      <td>0</td>\n",
       "    </tr>\n",
       "    <tr>\n",
       "      <th>2</th>\n",
       "      <td>events</td>\n",
       "      <td>healthcare</td>\n",
       "      <td>5</td>\n",
       "      <td>78796.0</td>\n",
       "      <td>unemployed</td>\n",
       "      <td>australia</td>\n",
       "      <td>3</td>\n",
       "      <td>0.69</td>\n",
       "      <td>1</td>\n",
       "    </tr>\n",
       "    <tr>\n",
       "      <th>3</th>\n",
       "      <td>paid_ads</td>\n",
       "      <td>retail</td>\n",
       "      <td>2</td>\n",
       "      <td>83843.0</td>\n",
       "      <td>NA</td>\n",
       "      <td>australia</td>\n",
       "      <td>1</td>\n",
       "      <td>0.87</td>\n",
       "      <td>0</td>\n",
       "    </tr>\n",
       "    <tr>\n",
       "      <th>4</th>\n",
       "      <td>referral</td>\n",
       "      <td>education</td>\n",
       "      <td>3</td>\n",
       "      <td>85012.0</td>\n",
       "      <td>self_employed</td>\n",
       "      <td>europe</td>\n",
       "      <td>3</td>\n",
       "      <td>0.62</td>\n",
       "      <td>1</td>\n",
       "    </tr>\n",
       "  </tbody>\n",
       "</table>\n",
       "</div>"
      ],
      "text/plain": [
       "    lead_source    industry  number_of_courses_viewed  annual_income  \\\n",
       "0      paid_ads          NA                         1        79450.0   \n",
       "1  social_media      retail                         1        46992.0   \n",
       "2        events  healthcare                         5        78796.0   \n",
       "3      paid_ads      retail                         2        83843.0   \n",
       "4      referral   education                         3        85012.0   \n",
       "\n",
       "  employment_status       location  interaction_count  lead_score  converted  \n",
       "0        unemployed  south_america                  4        0.94          1  \n",
       "1          employed  south_america                  1        0.80          0  \n",
       "2        unemployed      australia                  3        0.69          1  \n",
       "3                NA      australia                  1        0.87          0  \n",
       "4     self_employed         europe                  3        0.62          1  "
      ]
     },
     "execution_count": 5,
     "metadata": {},
     "output_type": "execute_result"
    }
   ],
   "source": [
    "df.head()"
   ]
  },
  {
   "cell_type": "code",
   "execution_count": 6,
   "id": "f9cd090e-7ce7-4901-9394-be0754b574fa",
   "metadata": {},
   "outputs": [
    {
     "data": {
      "text/plain": [
       "(876, 293, 293)"
      ]
     },
     "execution_count": 6,
     "metadata": {},
     "output_type": "execute_result"
    }
   ],
   "source": [
    "from sklearn.model_selection import train_test_split\n",
    "\n",
    "df_full_train, df_test = train_test_split(df, test_size=0.2, random_state=1)\n",
    "df_train, df_val = train_test_split(df_full_train, test_size=0.25, random_state=1)\n",
    "len(df_train), len(df_val), len(df_test)"
   ]
  },
  {
   "cell_type": "code",
   "execution_count": 7,
   "id": "ade1a5d6-ba8c-4d33-acd2-87b7f93a3221",
   "metadata": {},
   "outputs": [],
   "source": [
    "df_train = df_train.reset_index(drop=True)\n",
    "df_val = df_val.reset_index(drop=True)\n",
    "df_test = df_test.reset_index(drop=True)"
   ]
  },
  {
   "cell_type": "code",
   "execution_count": 8,
   "id": "3735fb80-2397-4668-b978-47ca247b60bc",
   "metadata": {},
   "outputs": [],
   "source": [
    "y_train = df_train.converted.values\n",
    "y_val = df_val.converted.values\n",
    "y_test = df_test.converted.values\n",
    "\n",
    "del df_train['converted']\n",
    "del df_val['converted']\n",
    "del df_test['converted']"
   ]
  },
  {
   "cell_type": "code",
   "execution_count": 9,
   "id": "df4f0a6f-170d-4e11-b44a-de975b6e17f1",
   "metadata": {},
   "outputs": [],
   "source": [
    "# Identify feature types\n",
    "categorical_features = ['lead_source', 'industry', 'employment_status', 'location']\n",
    "numerical_features = ['number_of_courses_viewed', 'annual_income', 'interaction_count', 'lead_score']\n",
    "target = 'converted'"
   ]
  },
  {
   "cell_type": "code",
   "execution_count": 10,
   "id": "8667b8be-e5ab-4bac-af16-6592da68d0ef",
   "metadata": {},
   "outputs": [],
   "source": [
    "from sklearn.metrics import roc_auc_score"
   ]
  },
  {
   "cell_type": "code",
   "execution_count": 11,
   "id": "762df180-df9d-49d2-8d47-780ba9114827",
   "metadata": {},
   "outputs": [
    {
     "name": "stdout",
     "output_type": "stream",
     "text": [
      "Feature 'number_of_courses_viewed': AUC = 0.7636\n",
      "Feature 'annual_income': AUC = 0.5520\n",
      "Feature 'interaction_count': AUC = 0.7383\n",
      "Feature 'lead_score': AUC = 0.6145\n"
     ]
    }
   ],
   "source": [
    "# Question 1\n",
    "auc_scores = {}\n",
    "for col in numerical_features:\n",
    "    # Use the numerical variable as the score (prediction)\n",
    "    y_pred = df_train[col].values\n",
    "    \n",
    "    # Compute AUC\n",
    "    auc = roc_auc_score(y_train, y_pred)\n",
    "    \n",
    "    # Invert the score if AUC is < 0.5\n",
    "    if auc < 0.5:\n",
    "        y_pred = -y_pred\n",
    "        auc = roc_auc_score(y_train, y_pred)\n",
    "    \n",
    "    auc_scores[col] = auc\n",
    "\n",
    "\n",
    "for feature, auc in auc_scores.items():\n",
    "    print(f\"Feature '{feature}': AUC = {auc:.4f}\")"
   ]
  },
  {
   "cell_type": "code",
   "execution_count": 12,
   "id": "d6a8f875-f4ea-44fd-a4f3-49ce24865c46",
   "metadata": {},
   "outputs": [
    {
     "name": "stdout",
     "output_type": "stream",
     "text": [
      "Highest AUC: 0.7636, by feature: 'number_of_courses_viewed'\n"
     ]
    }
   ],
   "source": [
    "# Which variable has the highest AUC\n",
    "best_auc_feature = max(auc_scores, key=auc_scores.get)\n",
    "print(f\"Highest AUC: {auc_scores[best_auc_feature]:.4f}, by feature: '{best_auc_feature}'\")"
   ]
  },
  {
   "cell_type": "code",
   "execution_count": 13,
   "id": "efb02986-bee0-4551-af98-0ee95bacf09d",
   "metadata": {},
   "outputs": [],
   "source": [
    "# Question 2\n",
    "from sklearn.feature_extraction import DictVectorizer\n",
    "from sklearn.linear_model import LogisticRegression"
   ]
  },
  {
   "cell_type": "code",
   "execution_count": 17,
   "id": "788e40ca-a697-46fe-8a3a-bfecd61706e2",
   "metadata": {},
   "outputs": [
    {
     "name": "stdout",
     "output_type": "stream",
     "text": [
      "\n",
      "Question 2: AUC on validation set: 0.816\n"
     ]
    }
   ],
   "source": [
    "# Prepare the data for DictVectorizer (all features)\n",
    "numerical_features_q2 = ['number_of_courses_viewed', 'annual_income', 'interaction_count']\n",
    "categorical_features_q2 = ['lead_source', 'industry', 'employment_status', 'location']\n",
    "all_features_q2 = numerical_features_q2 + categorical_features_q2\n",
    "\n",
    "# Convert DataFrames to a list of dictionaries\n",
    "train_dicts = df_train[all_features_q2].to_dict(orient='records')\n",
    "val_dicts = df_val[all_features_q2].to_dict(orient='records')\n",
    "\n",
    "# Apply One-Hot Encoding\n",
    "dv = DictVectorizer(sparse=False)\n",
    "X_train = dv.fit_transform(train_dicts)\n",
    "X_val = dv.transform(val_dicts)\n",
    "\n",
    "# Train the Logistic Regression model\n",
    "model = LogisticRegression(solver='liblinear', C=1.0, max_iter=1000, random_state=1)\n",
    "model.fit(X_train, y_train)\n",
    "\n",
    "# Predict probabilities on the validation set\n",
    "y_pred_val_proba = model.predict_proba(X_val)[:, 1]\n",
    "\n",
    "# Compute AUC on the validation set\n",
    "auc_val = roc_auc_score(y_val, y_pred_val_proba)\n",
    "print(f\"\\nQuestion 2: AUC on validation set: {auc_val:.3f}\")"
   ]
  },
  {
   "cell_type": "code",
   "execution_count": 24,
   "id": "55c5aa3e-a8c0-4499-83bc-a6e76c19cb81",
   "metadata": {},
   "outputs": [],
   "source": [
    "# Question 3\n",
    "import matplotlib.pyplot as plt\n",
    "import numpy as np"
   ]
  },
  {
   "cell_type": "code",
   "execution_count": 26,
   "id": "4bb29aee-ccbe-437c-b4c2-d2e0f1e02688",
   "metadata": {},
   "outputs": [
    {
     "data": {
      "image/png": "[encoded data removed]",
      "text/plain": [
       "<Figure size 1000x600 with 1 Axes>"
      ]
     },
     "metadata": {},
     "output_type": "display_data"
    },
    {
     "name": "stdout",
     "output_type": "stream",
     "text": [
      "Threshold where precision and recall curves intersect (closest point): 0.640\n"
     ]
    }
   ],
   "source": [
    "# Compute precision and recall for a given threshold\n",
    "def confusion_matrix_at_threshold(y_true, y_pred_proba, threshold):\n",
    "    # Convert probabilities to binary predictions\n",
    "    y_pred = (y_pred_proba >= threshold).astype(int)\n",
    "    \n",
    "    # True Positives, False Positives, False Negatives\n",
    "    tp = np.sum((y_true == 1) & (y_pred == 1))\n",
    "    fp = np.sum((y_true == 0) & (y_pred == 1))\n",
    "    fn = np.sum((y_true == 1) & (y_pred == 0))\n",
    "    \n",
    "    # Precision and Recall\n",
    "    precision = tp / (tp + fp) if (tp + fp) > 0 else 1.0 # Handle division by zero\n",
    "    recall = tp / (tp + fn) if (tp + fn) > 0 else 0.0     # Handle division by zero\n",
    "    \n",
    "    return precision, recall, tp, fp, fn\n",
    "\n",
    "# Compute Precision and Recall for all thresholds from 0.0 to 1.0 with step 0.01\n",
    "thresholds = np.arange(0.0, 1.01, 0.01)\n",
    "scores = []\n",
    "\n",
    "for t in thresholds:\n",
    "    p, r, tp, fp, fn = confusion_matrix_at_threshold(y_val, y_pred_val_proba, t)\n",
    "    scores.append((t, p, r))\n",
    "\n",
    "# Convert to DataFrame for easier handling\n",
    "df_scores = pd.DataFrame(scores, columns=['threshold', 'precision', 'recall'])\n",
    "\n",
    "# Visual Confirmation\n",
    "plt.figure(figsize=(10, 6))\n",
    "plt.plot(df_scores.threshold, df_scores.precision, label='Precision')\n",
    "plt.plot(df_scores.threshold, df_scores.recall, label='Recall')\n",
    "plt.xlabel('Threshold')\n",
    "plt.ylabel('Score')\n",
    "plt.title('Precision and Recall vs. Threshold')\n",
    "plt.legend()\n",
    "plt.grid(True)\n",
    "plt.show()\n",
    "\n",
    "# Find the intersection point\n",
    "df_scores['diff'] = np.abs(df_scores['precision'] - df_scores['recall'])\n",
    "intersection_threshold = df_scores.loc[df_scores['diff'].idxmin(), 'threshold']\n",
    "print(f\"Threshold where precision and recall curves intersect (closest point): {intersection_threshold:.3f}\")"
   ]
  },
  {
   "cell_type": "code",
   "execution_count": 27,
   "id": "7c88f681-a374-410d-ba51-ef4e26bcd491",
   "metadata": {},
   "outputs": [
    {
     "name": "stdout",
     "output_type": "stream",
     "text": [
      "Maximal F1 score: 0.811 at threshold: 0.55\n"
     ]
    }
   ],
   "source": [
    "# Question 4\n",
    "df_scores['f1'] = 2 * (df_scores['precision'] * df_scores['recall']) / (df_scores['precision'] + df_scores['recall'])\n",
    "df_scores['f1'] = df_scores['f1'].fillna(0.0)\n",
    "\n",
    "# Find the threshold with maximal F1 score\n",
    "maximal_f1_score = df_scores['f1'].max()\n",
    "f1_maximal_threshold = df_scores.loc[df_scores['f1'].idxmax(), 'threshold']\n",
    "print(f\"Maximal F1 score: {maximal_f1_score:.3f} at threshold: {f1_maximal_threshold:.2f}\")"
   ]
  },
  {
   "cell_type": "code",
   "execution_count": 33,
   "id": "c2fe67f1-fc06-4b94-9690-a4532285ea58",
   "metadata": {},
   "outputs": [],
   "source": [
    "# Question 5\n",
    "from sklearn.model_selection import KFold\n",
    "from sklearn.metrics import roc_auc_score"
   ]
  },
  {
   "cell_type": "code",
   "execution_count": 34,
   "id": "09d548c8-136c-4a05-b6bc-ca00d5ed08cc",
   "metadata": {},
   "outputs": [
    {
     "name": "stdout",
     "output_type": "stream",
     "text": [
      "AUC scores for C=1.0: [0.8054046006104371, 0.8703573383376338, 0.7737117835640004, 0.8024595267745952, 0.8551307847082494]\n",
      "Standard deviation of AUC scores: 0.0358\n"
     ]
    }
   ],
   "source": [
    "# Train and evaluate the model using cross-validation\n",
    "def train_and_evaluate_cv(df_full_train, y_full_train, C_value, n_splits=5, random_state=1):\n",
    "    \n",
    "    kfold = KFold(n_splits=n_splits, shuffle=True, random_state=random_state)\n",
    "    auc_scores_cv = []\n",
    "    \n",
    "    for train_idx, val_idx in kfold.split(df_full_train):\n",
    "        df_train_fold = df_full_train.iloc[train_idx]\n",
    "        y_train_fold = y_full_train[train_idx]\n",
    "        \n",
    "        df_val_fold = df_full_train.iloc[val_idx]\n",
    "        y_val_fold = y_full_train[val_idx]\n",
    "        \n",
    "        # Prepare data for DictVectorizer (all features except 'lead_score')\n",
    "        train_dicts_fold = df_train_fold[all_features_q2].to_dict(orient='records')\n",
    "        val_dicts_fold = df_val_fold[all_features_q2].to_dict(orient='records')\n",
    "        \n",
    "        dv_cv = DictVectorizer(sparse=False)\n",
    "        X_train_fold = dv_cv.fit_transform(train_dicts_fold)\n",
    "        X_val_fold = dv_cv.transform(val_dicts_fold)\n",
    "        \n",
    "        # Train the Logistic Regression model\n",
    "        model_cv = LogisticRegression(solver='liblinear', C=C_value, max_iter=1000, random_state=1)\n",
    "        model_cv.fit(X_train_fold, y_train_fold)\n",
    "        \n",
    "        # Predict probabilities on the validation set\n",
    "        y_pred_val_proba_cv = model_cv.predict_proba(X_val_fold)[:, 1]\n",
    "        \n",
    "        # Compute AUC on the validation set\n",
    "        auc_cv = roc_auc_score(y_val_fold, y_pred_val_proba_cv)\n",
    "        auc_scores_cv.append(auc_cv)\n",
    "        \n",
    "    return auc_scores_cv\n",
    "\n",
    "# Perform 5-Fold CV with C=1.0\n",
    "C_q5 = 1.0\n",
    "auc_scores_q5 = train_and_evaluate_cv(df_full_train, y_full_train, C_q5)\n",
    "\n",
    "std_auc_q5 = np.std(auc_scores_q5)\n",
    "print(f\"AUC scores for C={C_q5}: {auc_scores_q5}\")\n",
    "print(f\"Standard deviation of AUC scores: {std_auc_q5:.4f}\")"
   ]
  },
  {
   "cell_type": "code",
   "execution_count": 32,
   "id": "91449719-03b6-4a31-b5fd-35159d4c2b47",
   "metadata": {},
   "outputs": [
    {
     "name": "stdout",
     "output_type": "stream",
     "text": [
      "Hyperparameter Tuning Results:\n",
      "          C  mean_auc_round  std_auc_round\n",
      "0  0.000001           0.560          0.024\n",
      "1  0.001000           0.865          0.029\n",
      "2  1.000000           0.821          0.036\n",
      "Best C: 0.001 with mean AUC 0.865 and std 0.029\n"
     ]
    }
   ],
   "source": [
    "# Question 6\n",
    "\n",
    "C_values = [0.000001, 0.001, 1]\n",
    "results_q6 = []\n",
    "\n",
    "for C in C_values:\n",
    "    auc_scores_q6 = train_and_evaluate_cv(df_full_train, y_full_train, C)\n",
    "    mean_auc = np.mean(auc_scores_q6)\n",
    "    std_auc = np.std(auc_scores_q6)\n",
    "    results_q6.append((C, mean_auc, std_auc))\n",
    "\n",
    "# Convert to DataFrame for easier sorting and analysis\n",
    "df_results_q6 = pd.DataFrame(results_q6, columns=['C', 'mean_auc', 'std_auc'])\n",
    "\n",
    "# Sort for best mean_auc, then lowest std_auc, then smallest C\n",
    "df_results_q6['mean_auc_round'] = df_results_q6['mean_auc'].round(3)\n",
    "df_results_q6['std_auc_round'] = df_results_q6['std_auc'].round(3)\n",
    "\n",
    "# Sort by mean_auc (desc), std_auc (asc), C (asc)\n",
    "best_c_result = df_results_q6.sort_values(by=['mean_auc', 'std_auc', 'C'], ascending=[False, True, True]).iloc[0]\n",
    "\n",
    "print(\"Hyperparameter Tuning Results:\")\n",
    "print(df_results_q6[['C', 'mean_auc_round', 'std_auc_round']])\n",
    "print(f\"Best C: {best_c_result['C']} with mean AUC {best_c_result['mean_auc_round']} and std {best_c_result['std_auc_round']}\")"
   ]
  },
  {
   "cell_type": "code",
   "execution_count": null,
   "id": "8d2607c1-298b-4700-af6d-211262ed8c76",
   "metadata": {},
   "outputs": [],
   "source": []
  }
 ],
 "metadata": {
  "kernelspec": {
   "display_name": "Python [conda env:.conda-ml-zoomcamp]",
   "language": "python",
   "name": "conda-env-.conda-ml-zoomcamp-py"
  },
  "language_info": {
   "codemirror_mode": {
    "name": "ipython",
    "version": 3
   },
   "file_extension": ".py",
   "mimetype": "text/x-python",
   "name": "python",
   "nbconvert_exporter": "python",
   "pygments_lexer": "ipython3",
   "version": "3.11.13"
  }
 },
 "nbformat": 4,
 "nbformat_minor": 5
}
