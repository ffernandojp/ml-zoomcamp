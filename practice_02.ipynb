{
 "cells": [
  {
   "cell_type": "code",
   "execution_count": 2,
   "id": "a7a7eba7-cd91-4df8-8299-c0cabf0a85b2",
   "metadata": {},
   "outputs": [],
   "source": [
    "import pandas as pd\n",
    "import numpy as np"
   ]
  },
  {
   "cell_type": "code",
   "execution_count": 3,
   "id": "cc4afbcc-6bbf-465f-9b9a-2fc17f965ad0",
   "metadata": {},
   "outputs": [
    {
     "name": "stdout",
     "output_type": "stream",
     "text": [
      "--2025-10-06 22:54:13--  https://raw.githubusercontent.com/alexeygrigorev/datasets/master/car_fuel_efficiency.csv\n",
      "Loaded CA certificate '/etc/ssl/certs/ca-certificates.crt'\n",
      "Resolving raw.githubusercontent.com (raw.githubusercontent.com)... 185.199.109.133, 185.199.110.133, 185.199.111.133, ...\n",
      "Connecting to raw.githubusercontent.com (raw.githubusercontent.com)|185.199.109.133|:443... connected.\n",
      "HTTP request sent, awaiting response... 200 OK\n",
      "Length: 874188 (854K) [text/plain]\n",
      "Saving to: ‘car_fuel_efficiency.csv.2’\n",
      "\n",
      "car_fuel_efficiency 100%[===================>] 853.70K  --.-KB/s    in 0.1s    \n",
      "\n",
      "2025-10-06 22:54:13 (7.12 MB/s) - ‘car_fuel_efficiency.csv.2’ saved [874188/874188]\n",
      "\n"
     ]
    }
   ],
   "source": [
    "!wget https://raw.githubusercontent.com/alexeygrigorev/datasets/master/car_fuel_efficiency.csv"
   ]
  },
  {
   "cell_type": "code",
   "execution_count": 78,
   "id": "1670c5f7-b09b-4380-9a80-7f69ef679027",
   "metadata": {},
   "outputs": [],
   "source": [
    "df = pd.read_csv('car_fuel_efficiency.csv')\n",
    "df.columns = df.columns.str.lower().str.replace(' ', '_')"
   ]
  },
  {
   "cell_type": "code",
   "execution_count": 79,
   "id": "4d50f8db-c865-4322-a90e-3a39cb1fbf8a",
   "metadata": {},
   "outputs": [
    {
     "data": {
      "text/html": [
       "<div>\n",
       "<style scoped>\n",
       "    .dataframe tbody tr th:only-of-type {\n",
       "        vertical-align: middle;\n",
       "    }\n",
       "\n",
       "    .dataframe tbody tr th {\n",
       "        vertical-align: top;\n",
       "    }\n",
       "\n",
       "    .dataframe thead th {\n",
       "        text-align: right;\n",
       "    }\n",
       "</style>\n",
       "<table border=\"1\" class=\"dataframe\">\n",
       "  <thead>\n",
       "    <tr style=\"text-align: right;\">\n",
       "      <th></th>\n",
       "      <th>engine_displacement</th>\n",
       "      <th>horsepower</th>\n",
       "      <th>vehicle_weight</th>\n",
       "      <th>model_year</th>\n",
       "      <th>fuel_efficiency_mpg</th>\n",
       "    </tr>\n",
       "  </thead>\n",
       "  <tbody>\n",
       "    <tr>\n",
       "      <th>0</th>\n",
       "      <td>170</td>\n",
       "      <td>159.0</td>\n",
       "      <td>3413.433759</td>\n",
       "      <td>2003</td>\n",
       "      <td>13.231729</td>\n",
       "    </tr>\n",
       "    <tr>\n",
       "      <th>1</th>\n",
       "      <td>130</td>\n",
       "      <td>97.0</td>\n",
       "      <td>3149.664934</td>\n",
       "      <td>2007</td>\n",
       "      <td>13.688217</td>\n",
       "    </tr>\n",
       "    <tr>\n",
       "      <th>2</th>\n",
       "      <td>170</td>\n",
       "      <td>78.0</td>\n",
       "      <td>3079.038997</td>\n",
       "      <td>2018</td>\n",
       "      <td>14.246341</td>\n",
       "    </tr>\n",
       "    <tr>\n",
       "      <th>3</th>\n",
       "      <td>220</td>\n",
       "      <td>NaN</td>\n",
       "      <td>2542.392402</td>\n",
       "      <td>2009</td>\n",
       "      <td>16.912736</td>\n",
       "    </tr>\n",
       "    <tr>\n",
       "      <th>4</th>\n",
       "      <td>210</td>\n",
       "      <td>140.0</td>\n",
       "      <td>3460.870990</td>\n",
       "      <td>2009</td>\n",
       "      <td>12.488369</td>\n",
       "    </tr>\n",
       "  </tbody>\n",
       "</table>\n",
       "</div>"
      ],
      "text/plain": [
       "   engine_displacement  horsepower  vehicle_weight  model_year  \\\n",
       "0                  170       159.0     3413.433759        2003   \n",
       "1                  130        97.0     3149.664934        2007   \n",
       "2                  170        78.0     3079.038997        2018   \n",
       "3                  220         NaN     2542.392402        2009   \n",
       "4                  210       140.0     3460.870990        2009   \n",
       "\n",
       "   fuel_efficiency_mpg  \n",
       "0            13.231729  \n",
       "1            13.688217  \n",
       "2            14.246341  \n",
       "3            16.912736  \n",
       "4            12.488369  "
      ]
     },
     "execution_count": 79,
     "metadata": {},
     "output_type": "execute_result"
    }
   ],
   "source": [
    "df = df[['engine_displacement', 'horsepower', 'vehicle_weight', 'model_year', 'fuel_efficiency_mpg']]\n",
    "df.head()"
   ]
  },
  {
   "cell_type": "code",
   "execution_count": 6,
   "id": "7ba58973-f61f-4bd9-9008-b83f26485968",
   "metadata": {},
   "outputs": [
    {
     "data": {
      "text/plain": [
       "engine_displacement      0\n",
       "horsepower             708\n",
       "vehicle_weight           0\n",
       "model_year               0\n",
       "fuel_efficiency_mpg      0\n",
       "dtype: int64"
      ]
     },
     "execution_count": 6,
     "metadata": {},
     "output_type": "execute_result"
    }
   ],
   "source": [
    "# Check missing values\n",
    "missing_columns_count = df.isnull().sum()\n",
    "missing_columns_count"
   ]
  },
  {
   "cell_type": "code",
   "execution_count": 7,
   "id": "be64ad91-5c2a-4754-8857-4a857c3dfc4b",
   "metadata": {},
   "outputs": [
    {
     "data": {
      "text/plain": [
       "149.0"
      ]
     },
     "execution_count": 7,
     "metadata": {},
     "output_type": "execute_result"
    }
   ],
   "source": [
    "# Median horsepower\n",
    "median_hp = df['horsepower'].median()\n",
    "median_hp\n"
   ]
  },
  {
   "cell_type": "code",
   "execution_count": 72,
   "id": "c4a6980b-8edf-48f7-895c-c83e11eff02c",
   "metadata": {},
   "outputs": [],
   "source": [
    "# Prepare and split dataset\n",
    "n = len(df)\n",
    "\n",
    "n_val = int(n * 0.2)\n",
    "n_test = int(n * 0.2)\n",
    "n_train = n - n_val - n_test\n",
    "\n",
    "idx = np.arange(n)\n",
    "\n",
    "np.random.seed(42)\n",
    "np.random.shuffle(idx)\n",
    "\n",
    "df_train = df.iloc[idx[:n_train]]\n",
    "df_val = df.iloc[idx[n_train:n_train+n_val]]\n",
    "df_test = df.iloc[idx[n_train+n_val:]]\n",
    "\n",
    "df_train = df_train.reset_index(drop=True)\n",
    "df_val = df_val.reset_index(drop=True)\n",
    "df_test = df_test.reset_index(drop=True)\n",
    "\n"
   ]
  },
  {
   "cell_type": "code",
   "execution_count": 73,
   "id": "9513d92e-988a-493e-ae7a-dc72e7f14d86",
   "metadata": {},
   "outputs": [
    {
     "data": {
      "text/plain": [
       "(5824, 1940, 1940, 5824)"
      ]
     },
     "execution_count": 73,
     "metadata": {},
     "output_type": "execute_result"
    }
   ],
   "source": [
    "len(df_train), len(df_val), len(df_test), len(df_train + df_val + df_test)\n"
   ]
  },
  {
   "cell_type": "code",
   "execution_count": 16,
   "id": "4f0ee4ba-af24-4722-a6ab-04e8a0f4460d",
   "metadata": {},
   "outputs": [
    {
     "data": {
      "text/plain": [
       "(array([2.8703359 , 2.85061269, 2.97511223, ..., 2.92279789, 2.99201277,\n",
       "        2.94261017]),\n",
       " array([2.79522685, 2.74734667, 2.58377354, ..., 2.68192023, 2.69011317,\n",
       "        2.82233377]),\n",
       " array([2.82163803, 2.72604557, 2.54540897, ..., 2.96550163, 3.06816735,\n",
       "        2.88011043]))"
      ]
     },
     "execution_count": 16,
     "metadata": {},
     "output_type": "execute_result"
    }
   ],
   "source": [
    "y_train = np.log1p(df_train['fuel_efficiency_mpg'].values)\n",
    "y_val = np.log1p(df_val['fuel_efficiency_mpg'].values)\n",
    "y_test = np.log1p(df_test['fuel_efficiency_mpg'].values)\n",
    "y_train, y_val, y_test"
   ]
  },
  {
   "cell_type": "code",
   "execution_count": 28,
   "id": "6a1a5099-efa1-4494-a4a2-c5a95bc6e032",
   "metadata": {},
   "outputs": [],
   "source": [
    "# Fill with 0\n",
    "df_train_zero = df_train.copy()\n",
    "df_val_zero = df_val.copy()\n",
    "df_test_zero = df_test.copy()\n",
    "\n",
    "df_train_zero['horsepower'] = df_train_zero['horsepower'].fillna(0)\n",
    "df_val_zero['horsepower'] = df_val_zero['horsepower'].fillna(0)\n",
    "df_test_zero['horsepower'] = df_test_zero['horsepower'].fillna(0)\n"
   ]
  },
  {
   "cell_type": "code",
   "execution_count": 50,
   "id": "3138eec7-65d8-4102-89fe-3e974cda28b9",
   "metadata": {},
   "outputs": [],
   "source": [
    "# Fill with mean\n",
    "mean_hp = df_train['horsepower'].mean()\n",
    "\n",
    "df_train_mean = df_train.copy()\n",
    "df_val_mean = df_val.copy()\n",
    "df_test_mean = df_test.copy()\n",
    "\n",
    "df_train_mean['horsepower'] = df_train_mean['horsepower'].fillna(mean_hp)\n",
    "df_val_mean['horsepower'] = df_val_mean['horsepower'].fillna(mean_hp)\n",
    "df_test_mean['horsepower'] = df_test_mean['horsepower'].fillna(mean_hp)\n"
   ]
  },
  {
   "cell_type": "code",
   "execution_count": 33,
   "id": "c93f29f7-0211-4be5-ba34-27369e435f66",
   "metadata": {},
   "outputs": [
    {
     "data": {
      "text/plain": [
       "(array([[ 220.        ,  144.        , 2535.88759124, 2009.        ],\n",
       "        [ 160.        ,  141.        , 2741.17048439, 2019.        ],\n",
       "        [ 230.        ,  155.        , 2471.88023726, 2017.        ],\n",
       "        ...,\n",
       "        [ 210.        ,  152.        , 2500.17568746, 2020.        ],\n",
       "        [ 250.        ,  154.        , 2254.31324473, 2002.        ],\n",
       "        [ 210.        ,  152.        , 2435.20360628, 2004.        ]]),\n",
       " array([[ 180.        ,  112.        , 2772.13441008, 2020.        ],\n",
       "        [ 260.        ,  138.        , 3014.06152983, 2022.        ],\n",
       "        [ 140.        ,  181.        , 3652.18615117, 2016.        ],\n",
       "        ...,\n",
       "        [ 230.        ,  202.        , 3303.00068812, 2008.        ],\n",
       "        [ 220.        ,  169.        , 3293.42025107, 2008.        ],\n",
       "        [ 200.        ,  117.        , 2692.7812918 , 2004.        ]]),\n",
       " array([[ 140.        ,  148.        , 2704.82600507, 2017.        ],\n",
       "        [ 210.        ,  136.        , 3001.22749027, 2004.        ],\n",
       "        [ 210.        ,  152.        , 3747.467392  , 2021.        ],\n",
       "        ...,\n",
       "        [ 290.        ,  187.        , 2440.50803916, 2019.        ],\n",
       "        [ 260.        ,  129.        , 1865.40447951, 2019.        ],\n",
       "        [ 270.        ,  147.        , 2611.9394998 , 2017.        ]]))"
      ]
     },
     "execution_count": 33,
     "metadata": {},
     "output_type": "execute_result"
    }
   ],
   "source": [
    "# Linear regression\n",
    "features = ['engine_displacement', 'horsepower', 'vehicle_weight', 'model_year']\n",
    "X_train_zero = df_train_zero[features].values\n",
    "X_val_zero = df_val_zero[features].values\n",
    "X_test_zero = df_test_zero[features].values\n",
    "X_train_zero, X_val_zero, X_test_zero"
   ]
  },
  {
   "cell_type": "code",
   "execution_count": 51,
   "id": "710013d3-22c5-418d-b79f-4a419e34373a",
   "metadata": {},
   "outputs": [
    {
     "data": {
      "text/plain": [
       "(array([[ 220.        ,  144.        , 2535.88759124, 2009.        ],\n",
       "        [ 160.        ,  141.        , 2741.17048439, 2019.        ],\n",
       "        [ 230.        ,  155.        , 2471.88023726, 2017.        ],\n",
       "        ...,\n",
       "        [ 210.        ,  152.        , 2500.17568746, 2020.        ],\n",
       "        [ 250.        ,  154.        , 2254.31324473, 2002.        ],\n",
       "        [ 210.        ,  152.        , 2435.20360628, 2004.        ]]),\n",
       " array([[ 180.        ,  112.        , 2772.13441008, 2020.        ],\n",
       "        [ 260.        ,  138.        , 3014.06152983, 2022.        ],\n",
       "        [ 140.        ,  181.        , 3652.18615117, 2016.        ],\n",
       "        ...,\n",
       "        [ 230.        ,  202.        , 3303.00068812, 2008.        ],\n",
       "        [ 220.        ,  169.        , 3293.42025107, 2008.        ],\n",
       "        [ 200.        ,  117.        , 2692.7812918 , 2004.        ]]),\n",
       " array([[ 140.        ,  148.        , 2704.82600507, 2017.        ],\n",
       "        [ 210.        ,  136.        , 3001.22749027, 2004.        ],\n",
       "        [ 210.        ,  152.        , 3747.467392  , 2021.        ],\n",
       "        ...,\n",
       "        [ 290.        ,  187.        , 2440.50803916, 2019.        ],\n",
       "        [ 260.        ,  129.        , 1865.40447951, 2019.        ],\n",
       "        [ 270.        ,  147.        , 2611.9394998 , 2017.        ]]))"
      ]
     },
     "execution_count": 51,
     "metadata": {},
     "output_type": "execute_result"
    }
   ],
   "source": [
    "# Linear regression\n",
    "features = ['engine_displacement', 'horsepower', 'vehicle_weight', 'model_year']\n",
    "X_train_mean = df_train_mean[features].values\n",
    "X_val_mean = df_val_mean[features].values\n",
    "X_test_mean = df_test_mean[features].values\n",
    "X_train_mean, X_val_mean, X_test_mean"
   ]
  },
  {
   "cell_type": "code",
   "execution_count": 35,
   "id": "ea9cedf9-f2b7-47b8-892a-81ffecb5b6c6",
   "metadata": {},
   "outputs": [
    {
     "data": {
      "text/plain": [
       "(array([2.8703359 , 2.85061269, 2.97511223, ..., 2.92279789, 2.99201277,\n",
       "        2.94261017]),\n",
       " array([2.79522685, 2.74734667, 2.58377354, ..., 2.68192023, 2.69011317,\n",
       "        2.82233377]),\n",
       " array([2.82163803, 2.72604557, 2.54540897, ..., 2.96550163, 3.06816735,\n",
       "        2.88011043]))"
      ]
     },
     "execution_count": 35,
     "metadata": {},
     "output_type": "execute_result"
    }
   ],
   "source": [
    "y_train_zero = np.log1p(df_train_zero['fuel_efficiency_mpg'].values)\n",
    "y_val_zero = np.log1p(df_val_zero['fuel_efficiency_mpg'].values)\n",
    "y_test_zero = np.log1p(df_test_zero['fuel_efficiency_mpg'].values)\n",
    "y_train_zero, y_val_zero, y_test_zero"
   ]
  },
  {
   "cell_type": "code",
   "execution_count": 52,
   "id": "9c964941-1bc5-48f5-9955-a8fd714779c4",
   "metadata": {},
   "outputs": [
    {
     "data": {
      "text/plain": [
       "(array([2.8703359 , 2.85061269, 2.97511223, ..., 2.92279789, 2.99201277,\n",
       "        2.94261017]),\n",
       " array([2.79522685, 2.74734667, 2.58377354, ..., 2.68192023, 2.69011317,\n",
       "        2.82233377]),\n",
       " array([2.82163803, 2.72604557, 2.54540897, ..., 2.96550163, 3.06816735,\n",
       "        2.88011043]))"
      ]
     },
     "execution_count": 52,
     "metadata": {},
     "output_type": "execute_result"
    }
   ],
   "source": [
    "y_train_mean = np.log1p(df_train_mean['fuel_efficiency_mpg'].values)\n",
    "y_val_mean = np.log1p(df_val_mean['fuel_efficiency_mpg'].values)\n",
    "y_test_mean = np.log1p(df_test_mean['fuel_efficiency_mpg'].values)\n",
    "y_train_mean, y_val_mean, y_test_mean"
   ]
  },
  {
   "cell_type": "code",
   "execution_count": 36,
   "id": "18ef45ad-3935-42e7-ab88-846c7da297c8",
   "metadata": {},
   "outputs": [],
   "source": [
    "def dot(xi, w):\n",
    "    n = len(xi)\n",
    "    \n",
    "    res = 0.0\n",
    "    \n",
    "    for j in range(n):\n",
    "        res = res + xi[j] * w[j]\n",
    "    \n",
    "    return res\n",
    "\n",
    "    \n",
    "def linear_regression(xi):\n",
    "    return w0 + dot(xi, w)\n",
    "\n",
    "\n",
    "def train_linear_regression(X, y):\n",
    "    ones = np.ones(X.shape[0])\n",
    "    X = np.column_stack([ones, X])\n",
    "\n",
    "    XTX = X.T.dot(X)\n",
    "    XTX_inv = np.linalg.inv(XTX)\n",
    "    w_full = XTX_inv.dot(X.T).dot(y)\n",
    "    \n",
    "    return w_full[0], w_full[1:]"
   ]
  },
  {
   "cell_type": "code",
   "execution_count": 37,
   "id": "98c1586f-1c5c-42c4-a0e2-ad5432ed7d22",
   "metadata": {},
   "outputs": [
    {
     "data": {
      "text/plain": [
       "np.float64(3.6646662473557985)"
      ]
     },
     "execution_count": 37,
     "metadata": {},
     "output_type": "execute_result"
    }
   ],
   "source": [
    "w0, w = train_linear_regression(X_train_zero, y_train_zero)\n",
    "w0"
   ]
  },
  {
   "cell_type": "code",
   "execution_count": 53,
   "id": "c4c2c6a9-d76c-4b5e-bc76-afa0a1631fc1",
   "metadata": {},
   "outputs": [
    {
     "data": {
      "text/plain": [
       "np.float64(3.6710008196454234)"
      ]
     },
     "execution_count": 53,
     "metadata": {},
     "output_type": "execute_result"
    }
   ],
   "source": [
    "w0, w = train_linear_regression(X_train_mean, y_train_mean)\n",
    "w0"
   ]
  },
  {
   "cell_type": "code",
   "execution_count": 43,
   "id": "1cbaca13-2ed0-473e-8832-4835a67dc41f",
   "metadata": {},
   "outputs": [
    {
     "data": {
      "text/plain": [
       "array([2.90981589, 2.84278709, 2.93310627, ..., 2.92329662, 3.00305539,\n",
       "       2.94404905])"
      ]
     },
     "execution_count": 43,
     "metadata": {},
     "output_type": "execute_result"
    }
   ],
   "source": [
    "y_pred_zero = w0 + X_train_zero.dot(w)\n",
    "y_pred_zero"
   ]
  },
  {
   "cell_type": "code",
   "execution_count": 54,
   "id": "b3438cad-d682-4fbb-9ff0-4aeb1323ad1d",
   "metadata": {},
   "outputs": [
    {
     "data": {
      "text/plain": [
       "array([2.90493466, 2.83614915, 2.93281288, ..., 2.92153243, 3.00286793,\n",
       "       2.94287685])"
      ]
     },
     "execution_count": 54,
     "metadata": {},
     "output_type": "execute_result"
    }
   ],
   "source": [
    "y_pred_mean = w0 + X_train_mean.dot(w)\n",
    "y_pred_mean"
   ]
  },
  {
   "cell_type": "code",
   "execution_count": 41,
   "id": "af085aa8-9257-46b7-807c-bd1250e4b0d8",
   "metadata": {},
   "outputs": [],
   "source": [
    "import seaborn as sns\n",
    "import matplotlib.pyplot as plt\n"
   ]
  },
  {
   "cell_type": "code",
   "execution_count": 44,
   "id": "f3b364ac-aba0-4c78-a3fd-7d609acc31a2",
   "metadata": {},
   "outputs": [
    {
     "data": {
      "text/plain": [
       "<Axes: ylabel='Count'>"
      ]
     },
     "execution_count": 44,
     "metadata": {},
     "output_type": "execute_result"
    },
    {
     "data": {
      "image/png": "[encoded data removed]",
      "text/plain": [
       "<Figure size 640x480 with 1 Axes>"
      ]
     },
     "metadata": {},
     "output_type": "display_data"
    }
   ],
   "source": [
    "sns.histplot(y_pred_zero, color='red', alpha=0.5, bins=50)\n",
    "sns.histplot(y_train_zero, color='blue', alpha=0.5, bins=50)"
   ]
  },
  {
   "cell_type": "code",
   "execution_count": 55,
   "id": "b3749f2f-e41e-4361-84a3-938760a98a03",
   "metadata": {},
   "outputs": [
    {
     "data": {
      "text/plain": [
       "<Axes: ylabel='Count'>"
      ]
     },
     "execution_count": 55,
     "metadata": {},
     "output_type": "execute_result"
    },
    {
     "data": {
      "image/png": "[encoded data removed]",
      "text/plain": [
       "<Figure size 640x480 with 1 Axes>"
      ]
     },
     "metadata": {},
     "output_type": "display_data"
    }
   ],
   "source": [
    "sns.histplot(y_pred_mean, color='red', alpha=0.5, bins=50)\n",
    "sns.histplot(y_train_mean, color='blue', alpha=0.5, bins=50)"
   ]
  },
  {
   "cell_type": "code",
   "execution_count": 45,
   "id": "618ccd90-ab75-4095-866b-28dca5c97c92",
   "metadata": {},
   "outputs": [],
   "source": [
    "def rmse(y, y_pred):\n",
    "    se = (y - y_pred) ** 2\n",
    "    mse = se.mean()\n",
    "    return np.sqrt(mse)"
   ]
  },
  {
   "cell_type": "code",
   "execution_count": 47,
   "id": "123f7734-9afc-4deb-9e12-f637fdcc01e7",
   "metadata": {},
   "outputs": [
    {
     "data": {
      "text/plain": [
       "np.float64(0.04)"
      ]
     },
     "execution_count": 47,
     "metadata": {},
     "output_type": "execute_result"
    }
   ],
   "source": [
    "round(rmse(y_train_zero, y_pred_zero), 2)"
   ]
  },
  {
   "cell_type": "code",
   "execution_count": 56,
   "id": "8a3e319b-20c2-426e-aa99-d7225945daf7",
   "metadata": {},
   "outputs": [
    {
     "data": {
      "text/plain": [
       "np.float64(0.04)"
      ]
     },
     "execution_count": 56,
     "metadata": {},
     "output_type": "execute_result"
    }
   ],
   "source": [
    "round(rmse(y_train_mean, y_pred_mean), 2)"
   ]
  },
  {
   "cell_type": "code",
   "execution_count": 57,
   "id": "d0c6bdeb-fe0f-4999-aecf-553f6322ae78",
   "metadata": {},
   "outputs": [],
   "source": [
    "# Regularization\n",
    "def train_linear_regression_reg(X, y, r=0.001):\n",
    "    ones = np.ones(X.shape[0])\n",
    "    X = np.column_stack([ones, X])\n",
    "\n",
    "    XTX = X.T.dot(X)\n",
    "    XTX = XTX + r * np.eye(XTX.shape[0])\n",
    "\n",
    "    XTX_inv = np.linalg.inv(XTX)\n",
    "    w_full = XTX_inv.dot(X.T).dot(y)\n",
    "    \n",
    "    return w_full[0], w_full[1:]"
   ]
  },
  {
   "cell_type": "code",
   "execution_count": 64,
   "id": "51003d06-9754-4969-903b-aa3426da46b0",
   "metadata": {},
   "outputs": [
    {
     "data": {
      "text/plain": [
       "{0: np.float64(0.04),\n",
       " 0.01: np.float64(0.04),\n",
       " 1: np.float64(0.04),\n",
       " 10: np.float64(0.04),\n",
       " 100: np.float64(0.04)}"
      ]
     },
     "execution_count": 64,
     "metadata": {},
     "output_type": "execute_result"
    }
   ],
   "source": [
    "array_of_r = [0, 0.01, 1, 10, 100]\n",
    "\n",
    "rmse_values = {}\n",
    "\n",
    "for r in array_of_r:\n",
    "    w0, w = train_linear_regression_reg(X_train_zero, y_train_zero, r)\n",
    "    \n",
    "    y_pred_zero = w0 + X_val_zero.dot(w)\n",
    "    rmse_values[r] = round(rmse(y_val_zero, y_pred_zero), 2)\n",
    "\n",
    "rmse_values"
   ]
  },
  {
   "cell_type": "code",
   "execution_count": 82,
   "id": "4dd19206-2f1e-4188-930f-a6ae172502cd",
   "metadata": {},
   "outputs": [
    {
     "data": {
      "text/plain": [
       "[0, 1, 2, 3, 4, 5, 6, 7, 8, 9]"
      ]
     },
     "execution_count": 82,
     "metadata": {},
     "output_type": "execute_result"
    }
   ],
   "source": [
    "# Question 5\n",
    "seeds = list(range(10))\n",
    "seeds"
   ]
  },
  {
   "cell_type": "code",
   "execution_count": 83,
   "id": "c54a773b-9b94-423e-bbcd-7eebf0c063ff",
   "metadata": {},
   "outputs": [],
   "source": [
    "\n",
    "n_val = int(n * 0.2)\n",
    "n_test = int(n * 0.2)\n",
    "n_train = n - n_val - n_test\n",
    "\n",
    "idx = np.arange(n)"
   ]
  },
  {
   "cell_type": "code",
   "execution_count": 84,
   "id": "a81d956d-9f7c-4382-91bf-d6540f361364",
   "metadata": {},
   "outputs": [
    {
     "data": {
      "text/plain": [
       "np.float64(0.003)"
      ]
     },
     "execution_count": 84,
     "metadata": {},
     "output_type": "execute_result"
    }
   ],
   "source": [
    "\n",
    "features = ['engine_displacement', 'horsepower', 'vehicle_weight', 'model_year']\n",
    "rmse_scores = []\n",
    "\n",
    "for s in seeds: \n",
    "    np.random.seed(s)\n",
    "    np.random.shuffle(idx)\n",
    "\n",
    "    df_train_2 = df.iloc[idx[:n_train]]\n",
    "    df_val_2 = df.iloc[idx[n_train:n_train+n_val]]\n",
    "    df_test_2 = df.iloc[idx[n_train+n_val:]]\n",
    "\n",
    "    df_train_2.loc[:, 'horsepower'] = df_train_2['horsepower'].fillna(0)\n",
    "    df_val_2.loc[:, 'horsepower'] = df_val_2['horsepower'].fillna(0)\n",
    "    df_test_2.loc[:, 'horsepower'] = df_test_2['horsepower'].fillna(0)\n",
    "    \n",
    "    df_train_2 = df_train_2.reset_index(drop=True)\n",
    "    df_val_2 = df_val_2.reset_index(drop=True)\n",
    "    df_test_2 = df_test_2.reset_index(drop=True)\n",
    "\n",
    "    X_train_2 = df_train_2[features].values\n",
    "    y_train_2 = df_train_2['fuel_efficiency_mpg'].values\n",
    "    X_val_2 = df_val_2[features].values\n",
    "    y_val_2 = df_val_2['fuel_efficiency_mpg'].values\n",
    "\n",
    "    w0, w = train_linear_regression(X_train_2, y_train_2)\n",
    "\n",
    "    y_pred = w0 + X_train_2.dot(w)\n",
    "\n",
    "    rmse_val = round(rmse(y_train_2, y_pred), 3)\n",
    "    rmse_scores.append(rmse_val)\n",
    "\n",
    "# Get value of std\n",
    "std_rmse = round(np.std(rmse_scores), 3)\n",
    "std_rmse"
   ]
  },
  {
   "cell_type": "code",
   "execution_count": 87,
   "id": "f3cefd34-72c3-4acc-8f6c-ea90d1e50438",
   "metadata": {},
   "outputs": [
    {
     "data": {
      "text/html": [
       "<div>\n",
       "<style scoped>\n",
       "    .dataframe tbody tr th:only-of-type {\n",
       "        vertical-align: middle;\n",
       "    }\n",
       "\n",
       "    .dataframe tbody tr th {\n",
       "        vertical-align: top;\n",
       "    }\n",
       "\n",
       "    .dataframe thead th {\n",
       "        text-align: right;\n",
       "    }\n",
       "</style>\n",
       "<table border=\"1\" class=\"dataframe\">\n",
       "  <thead>\n",
       "    <tr style=\"text-align: right;\">\n",
       "      <th></th>\n",
       "      <th>engine_displacement</th>\n",
       "      <th>horsepower</th>\n",
       "      <th>vehicle_weight</th>\n",
       "      <th>model_year</th>\n",
       "      <th>fuel_efficiency_mpg</th>\n",
       "    </tr>\n",
       "  </thead>\n",
       "  <tbody>\n",
       "    <tr>\n",
       "      <th>0</th>\n",
       "      <td>220</td>\n",
       "      <td>163.0</td>\n",
       "      <td>2596.181383</td>\n",
       "      <td>2000</td>\n",
       "      <td>16.826595</td>\n",
       "    </tr>\n",
       "    <tr>\n",
       "      <th>1</th>\n",
       "      <td>130</td>\n",
       "      <td>123.0</td>\n",
       "      <td>3798.823171</td>\n",
       "      <td>2007</td>\n",
       "      <td>11.098491</td>\n",
       "    </tr>\n",
       "    <tr>\n",
       "      <th>2</th>\n",
       "      <td>190</td>\n",
       "      <td>210.0</td>\n",
       "      <td>3490.058283</td>\n",
       "      <td>2022</td>\n",
       "      <td>13.320370</td>\n",
       "    </tr>\n",
       "    <tr>\n",
       "      <th>3</th>\n",
       "      <td>240</td>\n",
       "      <td>188.0</td>\n",
       "      <td>3484.471854</td>\n",
       "      <td>2006</td>\n",
       "      <td>13.562769</td>\n",
       "    </tr>\n",
       "    <tr>\n",
       "      <th>4</th>\n",
       "      <td>190</td>\n",
       "      <td>168.0</td>\n",
       "      <td>3629.219477</td>\n",
       "      <td>2013</td>\n",
       "      <td>12.269049</td>\n",
       "    </tr>\n",
       "    <tr>\n",
       "      <th>...</th>\n",
       "      <td>...</td>\n",
       "      <td>...</td>\n",
       "      <td>...</td>\n",
       "      <td>...</td>\n",
       "      <td>...</td>\n",
       "    </tr>\n",
       "    <tr>\n",
       "      <th>7759</th>\n",
       "      <td>220</td>\n",
       "      <td>136.0</td>\n",
       "      <td>2471.042074</td>\n",
       "      <td>2022</td>\n",
       "      <td>17.576885</td>\n",
       "    </tr>\n",
       "    <tr>\n",
       "      <th>7760</th>\n",
       "      <td>190</td>\n",
       "      <td>123.0</td>\n",
       "      <td>3182.704176</td>\n",
       "      <td>2001</td>\n",
       "      <td>14.123574</td>\n",
       "    </tr>\n",
       "    <tr>\n",
       "      <th>7761</th>\n",
       "      <td>260</td>\n",
       "      <td>197.0</td>\n",
       "      <td>3024.782792</td>\n",
       "      <td>2006</td>\n",
       "      <td>15.737792</td>\n",
       "    </tr>\n",
       "    <tr>\n",
       "      <th>7762</th>\n",
       "      <td>130</td>\n",
       "      <td>0.0</td>\n",
       "      <td>2713.375132</td>\n",
       "      <td>2020</td>\n",
       "      <td>15.814211</td>\n",
       "    </tr>\n",
       "    <tr>\n",
       "      <th>7763</th>\n",
       "      <td>190</td>\n",
       "      <td>191.0</td>\n",
       "      <td>2696.754378</td>\n",
       "      <td>2016</td>\n",
       "      <td>16.579085</td>\n",
       "    </tr>\n",
       "  </tbody>\n",
       "</table>\n",
       "<p>7764 rows × 5 columns</p>\n",
       "</div>"
      ],
      "text/plain": [
       "      engine_displacement  horsepower  vehicle_weight  model_year  \\\n",
       "0                     220       163.0     2596.181383        2000   \n",
       "1                     130       123.0     3798.823171        2007   \n",
       "2                     190       210.0     3490.058283        2022   \n",
       "3                     240       188.0     3484.471854        2006   \n",
       "4                     190       168.0     3629.219477        2013   \n",
       "...                   ...         ...             ...         ...   \n",
       "7759                  220       136.0     2471.042074        2022   \n",
       "7760                  190       123.0     3182.704176        2001   \n",
       "7761                  260       197.0     3024.782792        2006   \n",
       "7762                  130         0.0     2713.375132        2020   \n",
       "7763                  190       191.0     2696.754378        2016   \n",
       "\n",
       "      fuel_efficiency_mpg  \n",
       "0               16.826595  \n",
       "1               11.098491  \n",
       "2               13.320370  \n",
       "3               13.562769  \n",
       "4               12.269049  \n",
       "...                   ...  \n",
       "7759            17.576885  \n",
       "7760            14.123574  \n",
       "7761            15.737792  \n",
       "7762            15.814211  \n",
       "7763            16.579085  \n",
       "\n",
       "[7764 rows x 5 columns]"
      ]
     },
     "execution_count": 87,
     "metadata": {},
     "output_type": "execute_result"
    }
   ],
   "source": [
    "# Question 6\n",
    "np.random.seed(9)\n",
    "np.random.shuffle(idx)\n",
    "\n",
    "df_train_3 = df.iloc[idx[:n_train]]\n",
    "df_val_3 = df.iloc[idx[n_train:n_train+n_val]]\n",
    "df_test_3 = df.iloc[idx[n_train+n_val:]]\n",
    "\n",
    "df_train_3.loc[:, 'horsepower'] = df_train_3['horsepower'].fillna(0)\n",
    "df_val_3.loc[:, 'horsepower'] = df_val_3['horsepower'].fillna(0)\n",
    "df_test_3.loc[:, 'horsepower'] = df_test_3['horsepower'].fillna(0)\n",
    "\n",
    "df_train_3 = df_train_3.reset_index(drop=True)\n",
    "df_val_3 = df_val_3.reset_index(drop=True)\n",
    "df_test_3 = df_test_3.reset_index(drop=True)\n",
    "\n",
    "\n",
    "df_full_train = pd.concat([df_train_3, df_val_3]).reset_index(drop=True)\n",
    "df_full_train"
   ]
  },
  {
   "cell_type": "code",
   "execution_count": 91,
   "id": "9d9018b6-509e-4188-abd1-48590247170e",
   "metadata": {},
   "outputs": [],
   "source": [
    "X_full_train = df_full_train[features].values\n",
    "X_test_3 = df_test_3[features].values\n",
    "\n",
    "Y_full_train = np.log1p(df_full_train['fuel_efficiency_mpg'].values)\n",
    "Y_test_3 = np.log1p(df_test_3['fuel_efficiency_mpg'].values)"
   ]
  },
  {
   "cell_type": "code",
   "execution_count": 94,
   "id": "ab8c2b87-ceaa-4f3a-ad96-93b1bb7de274",
   "metadata": {},
   "outputs": [
    {
     "data": {
      "text/plain": [
       "np.float64(0.04)"
      ]
     },
     "execution_count": 94,
     "metadata": {},
     "output_type": "execute_result"
    }
   ],
   "source": [
    "w0, w = train_linear_regression_reg(X_full_train, Y_full_train, r=0.001)\n",
    "    \n",
    "y_pred_full = w0 + X_test_3.dot(w)\n",
    "round(rmse(Y_test_3, y_pred_full), 2)"
   ]
  },
  {
   "cell_type": "code",
   "execution_count": null,
   "id": "f0871268-7384-4e3d-b8a9-1a5072e0fcac",
   "metadata": {},
   "outputs": [],
   "source": []
  }
 ],
 "metadata": {
  "kernelspec": {
   "display_name": "Python 3 (ipykernel)",
   "language": "python",
   "name": "python3"
  },
  "language_info": {
   "codemirror_mode": {
    "name": "ipython",
    "version": 3
   },
   "file_extension": ".py",
   "mimetype": "text/x-python",
   "name": "python",
   "nbconvert_exporter": "python",
   "pygments_lexer": "ipython3",
   "version": "3.11.13"
  }
 },
 "nbformat": 4,
 "nbformat_minor": 5
}
